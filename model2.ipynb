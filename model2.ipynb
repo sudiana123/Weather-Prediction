{
 "cells": [
  {
   "cell_type": "code",
   "execution_count": 6,
   "metadata": {},
   "outputs": [
    {
     "name": "stdout",
     "output_type": "stream",
     "text": [
      "numpy: 2.1.1\n",
      "pandas: 2.2.2\n",
      "scikit-learn: 1.5.1\n"
     ]
    }
   ],
   "source": [
    "import numpy\n",
    "print('numpy:', numpy.__version__)\n",
    "\n",
    "import pandas\n",
    "print('pandas:', pandas.__version__)\n",
    "\n",
    "import sklearn\n",
    "print('scikit-learn:', sklearn.__version__)"
   ]
  },
  {
   "cell_type": "code",
   "execution_count": 7,
   "metadata": {},
   "outputs": [
    {
     "name": "stdout",
     "output_type": "stream",
     "text": [
      "   Temperature  Humidity  Wind Speed  Precipitation (%)  Cloud Cover  \\\n",
      "0         14.0        73         9.5               82.0            1   \n",
      "1         39.0        96         8.5               71.0            1   \n",
      "2         30.0        64         7.0               16.0            2   \n",
      "3         38.0        83         1.5               82.0            2   \n",
      "4         27.0        74        17.0               66.0            3   \n",
      "\n",
      "   Atmospheric Pressure  UV Index  Season  Visibility (km)  Location  \\\n",
      "0               1010.82         2       1              3.5         1   \n",
      "1               1011.43         7       2             10.0         1   \n",
      "2               1018.72         5       2              5.5         2   \n",
      "3               1026.25         7       2              1.0         3   \n",
      "4                990.67         1       1              2.5         2   \n",
      "\n",
      "   Weather Type  \n",
      "0             1  \n",
      "1             2  \n",
      "2             3  \n",
      "3             3  \n",
      "4             1  \n"
     ]
    }
   ],
   "source": [
    "import pandas as pd\n",
    "df = pd.read_csv('weather_classification_data.csv')\n",
    "print(df.head())"
   ]
  },
  {
   "cell_type": "code",
   "execution_count": 13,
   "metadata": {},
   "outputs": [],
   "source": [
    "X = df[['Temperature', 'Humidity', 'Wind Speed', 'Precipitation (%)', 'Cloud Cover', 'Atmospheric Pressure', 'UV Index', 'Season', 'Visibility (km)', 'Location']]\n",
    "y = df['Weather Type'] "
   ]
  },
  {
   "cell_type": "code",
   "execution_count": 14,
   "metadata": {},
   "outputs": [],
   "source": [
    "#buat pipeline model untuk sebelum melatih model\n",
    "from sklearn.pipeline import make_pipeline\n",
    "from sklearn.preprocessing import StandardScaler\n",
    "from sklearn.svm import LinearSVC\n",
    "\n",
    "model_numpy = make_pipeline(StandardScaler(), LinearSVC)"
   ]
  },
  {
   "cell_type": "code",
   "execution_count": 21,
   "metadata": {},
   "outputs": [
    {
     "name": "stdout",
     "output_type": "stream",
     "text": [
      "              precision    recall  f1-score   support\n",
      "\n",
      "           1       0.91      0.94      0.92       548\n",
      "           2       0.92      0.89      0.90       550\n",
      "           3       0.93      0.90      0.92       477\n",
      "           4       0.96      0.99      0.98       577\n",
      "\n",
      "    accuracy                           0.93      2152\n",
      "   macro avg       0.93      0.93      0.93      2152\n",
      "weighted avg       0.93      0.93      0.93      2152\n",
      "\n"
     ]
    }
   ],
   "source": [
    "# split data training-testing\n",
    "import pickle\n",
    "from sklearn.model_selection import train_test_split\n",
    "from sklearn.metrics import classification_report\n",
    "\n",
    "X_train, X_test, y_train, y_test = train_test_split(X, y, test_size=0.2, random_state=46)\n",
    "\n",
    "# train model\n",
    "model_numpy = LinearSVC()\n",
    "model_numpy.fit(X_train, y_train)\n",
    "\n",
    "# evaluasi model\n",
    "y_pred = model_numpy.predict(X_test)\n",
    "print(classification_report(y_test, y_pred))\n",
    "\n",
    "# simpan model\n",
    "with open(\"model_numpy.pkl\", \"wb\") as model_file:\n",
    "    pickle.dump(model_numpy, model_file)\n"
   ]
  },
  {
   "cell_type": "code",
   "execution_count": 22,
   "metadata": {},
   "outputs": [
    {
     "name": "stderr",
     "output_type": "stream",
     "text": [
      "C:\\Users\\62812\\AppData\\Local\\Packages\\PythonSoftwareFoundation.Python.3.12_qbz5n2kfra8p0\\LocalCache\\local-packages\\Python312\\site-packages\\sklearn\\base.py:493: UserWarning: X does not have valid feature names, but LinearSVC was fitted with feature names\n",
      "  warnings.warn(\n"
     ]
    },
    {
     "data": {
      "text/plain": [
       "array([3])"
      ]
     },
     "execution_count": 22,
     "metadata": {},
     "output_type": "execute_result"
    }
   ],
   "source": [
    "# inference (bagaimana cara kita bisa menggunakan model tsb untuk prediksi) model data numpy\n",
    "new_data = [1, 2, 3, 4, 5, 6, 7, 8, 9, 10]\n",
    "model_numpy.predict([new_data])\n",
    "\n",
    "# memiliki output targetnya 3\n",
    "#'Rainy': 1, 'Cloudy': 2, 'Sunny': 3, 'Snowy': 4"
   ]
  },
  {
   "cell_type": "code",
   "execution_count": 23,
   "metadata": {},
   "outputs": [],
   "source": [
    "import pickle\n",
    "\n",
    "with open(\"model_numpy.pkl\", \"rb\") as model_file:\n",
    "    model = pickle.load(model_file)"
   ]
  },
  {
   "cell_type": "code",
   "execution_count": null,
   "metadata": {},
   "outputs": [],
   "source": [
    "# maksudnya angka2 yg ada di dalam array  adalah inputnya\n",
    "new_data = [1, 2, 3, 4, 5, 6, 7, 8, 9, 10]\n",
    "new_data_df = pd.DataFrame([new_data], columns=['Temperature', 'Humidity', 'Wind Speed', 'Precipitation (%)', \n",
    "                                                'Cloud Cover', 'Atmospheric Pressure', 'UV Index', 'Season', \n",
    "                                                'Visibility (km)', 'Location'])\n",
    "new_data"
   ]
  }
 ],
 "metadata": {
  "kernelspec": {
   "display_name": "Python 3",
   "language": "python",
   "name": "python3"
  },
  "language_info": {
   "codemirror_mode": {
    "name": "ipython",
    "version": 3
   },
   "file_extension": ".py",
   "mimetype": "text/x-python",
   "name": "python",
   "nbconvert_exporter": "python",
   "pygments_lexer": "ipython3",
   "version": "3.12.5"
  }
 },
 "nbformat": 4,
 "nbformat_minor": 2
}
